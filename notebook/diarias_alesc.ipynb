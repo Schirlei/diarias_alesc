{
  "nbformat": 4,
  "nbformat_minor": 0,
  "metadata": {
    "colab": {
      "name": "Diárias_Alesc.ipynb",
      "provenance": []
    },
    "kernelspec": {
      "name": "python3",
      "display_name": "Python 3"
    },
    "language_info": {
      "name": "python"
    }
  },
  "cells": [
    {
      "cell_type": "markdown",
      "metadata": {
        "id": "k9piRczgJm8-"
      },
      "source": [
        "\n",
        "## **Diárias pagas aos deputados da Assembleia Legislativa de SC**\n",
        "---\n",
        "*   As informações foram coletadas do Portal da Transparência\n",
        "*   https://transparencia.alesc.sc.gov.br/diarias_dados_abertos.php\n",
        "\n",
        "\n",
        "\n",
        "\n",
        "\n"
      ]
    },
    {
      "cell_type": "markdown",
      "metadata": {
        "id": "0MeCg8-QLF5m"
      },
      "source": [
        "Biblioteca "
      ]
    },
    {
      "cell_type": "code",
      "metadata": {
        "colab": {
          "base_uri": "https://localhost:8080/"
        },
        "id": "7w-qugtQBwwA",
        "outputId": "28fd5733-6cc6-4674-f331-767c7c866bbb"
      },
      "source": [
        "!pip install requests  ### instala a biblioteca de requisição"
      ],
      "execution_count": 2,
      "outputs": [
        {
          "output_type": "stream",
          "name": "stdout",
          "text": [
            "Requirement already satisfied: requests in /usr/local/lib/python3.7/dist-packages (2.23.0)\n",
            "Requirement already satisfied: chardet<4,>=3.0.2 in /usr/local/lib/python3.7/dist-packages (from requests) (3.0.4)\n",
            "Requirement already satisfied: idna<3,>=2.5 in /usr/local/lib/python3.7/dist-packages (from requests) (2.10)\n",
            "Requirement already satisfied: certifi>=2017.4.17 in /usr/local/lib/python3.7/dist-packages (from requests) (2021.5.30)\n",
            "Requirement already satisfied: urllib3!=1.25.0,!=1.25.1,<1.26,>=1.21.1 in /usr/local/lib/python3.7/dist-packages (from requests) (1.24.3)\n"
          ]
        }
      ]
    },
    {
      "cell_type": "code",
      "metadata": {
        "id": "A8-GG_haOkNO",
        "colab": {
          "base_uri": "https://localhost:8080/"
        },
        "outputId": "43d8db36-5e1f-4d3f-b595-0f25a4f04691"
      },
      "source": [
        "import requests  ### importa biblioteca instalada   \n",
        "\n",
        "url = \"https://transparencia.alesc.sc.gov.br/diarias_dados_abertos.php\"  ### A URL buscada é o Portal da Transparência da Alesc com informações sobre as diárias dos deputados. \n",
        "resposta = requests.get(url) ### Abre o link contido na variável 'url' inserida no parâmetro da função e coloca o conteúdo do site na variável resposta.\n",
        "html = resposta.text ### mostra o conteúdo da página html\n",
        "print(html)"
      ],
      "execution_count": 3,
      "outputs": [
        {
          "output_type": "stream",
          "name": "stdout",
          "text": [
            "<!DOCTYPE html PUBLIC \"-//W3C//DTD XHTML 1.0 Transitional//EN\" \"http://www.w3.org/TR/xhtml1/DTD/xhtml1-transitional.dtd\">\r\n",
            "<html xmlns=\"http://www.w3.org/1999/xhtml\" lang=\"pt-br\">\r\n",
            "    <head>\r\n",
            "        <meta http-equiv=\"Content-Type\" content=\"text/html; charset=iso-8859-1\" />\r\n",
            "        <title>Portal da Transparência ALESC</title>\r\n",
            "        <link href=\"css/transparencia.css?mel15\" rel=\"stylesheet\" type=\"text/css\" title=\"\"  />\r\n",
            "        <link href=\"css/jquery-ui-1.9.2.custom.min.css\" rel=\"stylesheet\" type=\"text/css\" />\r\n",
            "        <link rel=\"alternate stylesheet\" type=\"text/css\" href=\"css/fontegrande.css\" title=\"fontegrande\" id=\"fontegrande\">\r\n",
            "            <script language=\"javascript\" type=\"text/javascript\" src=\"js/jquery-1.8.3.js\"></script>\r\n",
            "            <script language=\"javascript\" type=\"text/javascript\" src=\"js/jquery-ui-1.9.2.custom.min.js\"></script>\r\n",
            "            <script language=\"javascript\" type=\"text/javascript\" src=\"js/jquery.maskedinput-1.3.js\"></script>\r\n",
            "            <script language=\"javascript\" type=\"text/javascript\" src=\"js/styleswitcher.js\"></script>\r\n",
            "            <script language='javascript' type='text/javascript'>\r\n",
            "                $(function () {\r\n",
            "                    var title = getActiveStyleSheet();\r\n",
            "                    createCookie(\"style\", title, 365);\r\n",
            "\r\n",
            "                    jQuery('.node-tools a.font').click(function () {\r\n",
            "                        var obj = jQuery(this);\r\n",
            "                        var act = obj.attr('href');\r\n",
            "\r\n",
            "                        switch (act) {\r\n",
            "                            case '#default':\r\n",
            "                                setActiveStyleSheet('transparencia', 'fontegrande');\r\n",
            "                                break;\r\n",
            "                            case '#increase':\r\n",
            "                                setActiveStyleSheet('fontegrande', 'fontegrande');\r\n",
            "                                break;\r\n",
            "                        }\r\n",
            "                        return false;\r\n",
            "                    });\r\n",
            "                });\r\n",
            "            </script>\r\n",
            "            <script language='javascript' src='js/FWResizeFont.js' type='text/javascript'></script>\r\n",
            "            <script type=\"text/javascript\">\r\n",
            "\r\n",
            "                var _gaq = _gaq || [];\r\n",
            "                _gaq.push(['_setAccount', 'UA-22595596-4']);\r\n",
            "                _gaq.push(['_trackPageview']);\r\n",
            "\r\n",
            "                (function () {\r\n",
            "                    var ga = document.createElement('script');\r\n",
            "                    ga.type = 'text/javascript';\r\n",
            "                    ga.async = true;\r\n",
            "                    ga.src = ('https:' == document.location.protocol ? 'https://ssl' : 'http://www') + '.google-analytics.com/ga.js';\r\n",
            "                    var s = document.getElementsByTagName('script')[0];\r\n",
            "                    s.parentNode.insertBefore(ga, s);\r\n",
            "                })();\r\n",
            "\r\n",
            "            </script>\r\n",
            "            <script type=\"text/javascript\">\r\n",
            "                $(document).ready(function () {\r\n",
            "                    $(\"#telefone\").mask(\"(99)9999-9999\");\r\n",
            "                    $(\".filtros button[type=reset]\").click(function () {\r\n",
            "                        var form = $(this).parents('form');\r\n",
            "                        $(form).find('input, select').val('');\r\n",
            "                        $(form).submit();\r\n",
            "                    });\r\n",
            "                });\r\n",
            "            </script>\r\n",
            "            <script src=\"https://kit.fontawesome.com/30af44db36.js\" crossorigin=\"anonymous\"></script>\r\n",
            "    </head>\r\n",
            "    <body>\r\n",
            "        <noscript>\r\n",
            "        </noscript>\r\n",
            "        <div id=\"tudo\">\r\n",
            "            <div id=\"topo\">\r\n",
            "                <!-- LOGO -->\r\n",
            "                <table align=\"center\" border=\"0\" cellpadding=\"0\" cellspacing=\"0\" summary=\"Cabeçalho com as logos da ALESC e do Portal da Transparência.\">\r\n",
            "                    <tr>\r\n",
            "                        <td style=\"text-align: left; padding-bottom:10px;\">\r\n",
            "                            <a href=\"http://transparencia.alesc.sc.gov.br\" title=\"Link para Transparência ALESC\">\r\n",
            "                                <img src=\"imagem/logo_transparencia.png\" alt=\"Logo Transparência ALESC\" border=\"0\"/>\r\n",
            "                            </a>\r\n",
            "                        </td>\r\n",
            "                        <td style=\"text-align: right;\">\r\n",
            "                            <a href=\"http://www.alesc.sc.gov.br\" title=\"Lik para o portal ALESC\" target=\"_blank\">\r\n",
            "                                <img src=\"imagem/logo_alesc.png\" alt=\"Logo ALESC\" border=\"0\"/>\r\n",
            "                            </a>\r\n",
            "                        </td>\r\n",
            "                    </tr>\r\n",
            "                </table>\r\n",
            "                <!-- /LOGO -->\r\n",
            "                <!-- MENU HORIZONTAL -->\n",
            "<table align=\"center\" border=\"0\" cellpadding=\"0\" cellspacing=\"0\" summary=\"Menu de navegação.\" class=\"horizontal_menu_size\">\n",
            "    <tr style=\"text-align: center;\">\n",
            "        <td class=\"horizontal_menu_fill \" style=\"border-left: 1px solid #CCC; border-right: 1px solid #CCC;\">\n",
            "            <a href=\"index.php\" title=\"Início\">\n",
            "                <img src=\"/imagem/home_icon.png\" width=\"16\" height=\"16\"/>\n",
            "            </a>\n",
            "        </td>\n",
            "        <td class=\"horizontal_menu_fill \" style=\"border-right: 1px solid #CCC;\">\n",
            "            <a href=\"administrativo.php\" title=\"Administrativo\">Administrativo</a>\n",
            "        </td>\n",
            "        <td class=\"horizontal_menu_fill \" style=\"border-right: 1px solid #CCC;\">\n",
            "            <a href=\"gabinetes.php\" title=\"Gabinetes Parlamentares\">Gabinetes Parlamentares</a>\n",
            "        </td>\n",
            "        <td class=\"horizontal_menu_fill \" style=\"border-right: 1px solid #CCC;\">\n",
            "            <a href=\"despesas_receitas.php\" title=\"Despesas e Receitas\">Despesas e Receitas</a>\n",
            "        </td>\n",
            "        <td class=\"horizontal_menu_fill \" style=\"border-right: 1px solid #CCC;\">\n",
            "            <a href=\"legislativo.php\" title=\"Legislativo\">Legislativo</a>\n",
            "        </td>\n",
            "        <td class=\"horizontal_menu_fill \" style=\"border-right: 1px solid #CCC;\">\n",
            "            <a href=\"atos_normativos.php\" title=\"Atos Normativos\">Atos Normativos</a>\n",
            "        </td>\n",
            "        <td class=\"horizontal_menu_fill \" style=\"border-right: 1px solid #CCC;\">\n",
            "            <a href=\"faq.php\" title=\"Perguntas Frequentes\">Perguntas Frequentes</a>\n",
            "        </td>\n",
            "        <td class=\"horizontal_menu_fill \" style=\"border-right: 1px solid #CCC;\">\n",
            "            <a href=\"atendimento_cidadao.php\" title=\"Atendimento ao Cidadão\">Atendimento ao Cidadão</a>\n",
            "        </td>\n",
            "        <td class=\"horizontal_menu_fill \" style=\"border-right: 1px solid #CCC;\">\n",
            "            <a href=\"dicionario_legislativo.php\" title=\"Dicionário Legislativo\">Dicionário Legislativo</a>\n",
            "        </td>\n",
            "    </tr>\n",
            "</table>\n",
            "<!-- /MENU HORIZONTAL -->\n",
            "            </div>\r\n",
            "            <div id=\"principal\" style=\"position: relative; padding-top: 40px\">\r\n",
            "                <div id=\"google-cse\" style=\"width:400px; position: absolute; top: 0; right: 0\">\r\n",
            "                    <script>\r\n",
            "                (function () {\r\n",
            "                    var cx = '005934868309674211648:fajo8fnsiqa';\r\n",
            "                    var gcse = document.createElement('script');\r\n",
            "                    gcse.type = 'text/javascript';\r\n",
            "                    gcse.async = true;\r\n",
            "                    gcse.src = 'https://cse.google.com/cse.js?cx=' + cx;\r\n",
            "                    var s = document.getElementsByTagName('script')[0];\r\n",
            "                    s.parentNode.insertBefore(gcse, s);\r\n",
            "                })();\r\n",
            "                    </script>\r\n",
            "                    <gcse:search></gcse:search>\r\n",
            "                </div>\r\n",
            "                <br clear=\"all\" />\r\n",
            "                <div class=\"node-tools clearfix\">\r\n",
            "                    <ul>\r\n",
            "                        <li><a href=\"#increase\" class=\"font font-increase btn btn-plus btn-link\"\r\n",
            "                               title=\"Aumentar fonte\">Aumentar</a></li>\r\n",
            "                        <li><a href=\"#default\" class=\"font font-default btn btn-font btn-link\"\r\n",
            "                               title=\"Voltar ao Padrão\">Padrão</a></li>\r\n",
            "                        <li><a href=\"javascript:if(window.print)window.print()\"\r\n",
            "                               class=\"btn btn-print btn-link\" title=\"Imprimir texto\">Imprimir</a></li>\r\n",
            "                    </ul>\r\n",
            "                </div>\r\n",
            "                <br clear=\"all\" />\r\n",
            "\r\n",
            "                <div id=\"conteudo\">\r\n",
            "                    <div id=\"block-system-main\">\r\n",
            "                        <div class='breadcrumb'> &raquo; <a href='/index.php' title='Página inicial'>Página inicial</a> &raquo; Diárias (dados abertos)</div><h2 style=\"margin-left: 20px;\">Diárias</h2>\r\n",
            "<div class=\"dados-abertos\">\n",
            "    <h3>Dados Abertos</h3>\n",
            "    <p>O recurso \"Dados abertos\" permite ao cidadão visualizar e manipular as informações livremente em seu próprio computador.<br/><br/>\n",
            "        Este recurso é particularmente interessante para utilização na forma de planilhas (em aplicativos como Microsoft Excel, OpenOffice Calc etc.), o que pode propiciar outros recursos, como totalizações, <em>rankings</em> e gráficos.<br/><br/>\n",
            "        O formato de dados <a href=\"https://pt.wikipedia.org/wiki/Comma-separated_values\" target=\"_blank\">CSV</a> (<em>\"Comma-Separated Values\"</em> ou \"valores separados por vírgula\") \n",
            "        é considerado \"aberto\" porque obedece a um padrão não proprietário, ou seja, ele é de domínio público.</p>\n",
            "</div><table cellpadding=\"10\" cellspacing=\"0\" class=\"pagamentos dados-abertos\">\r\n",
            "    <caption>Diárias concedidas a partir de novembro/2011</caption>\r\n",
            "    <tr>\r\n",
            "        <th style=\"width: 30%\">Ano</th>\r\n",
            "        <th style=\"width: 10%\">Download</th>\r\n",
            "    </tr>\r\n",
            "            <tr>\r\n",
            "            <td class=\"a-center\">2021</td>\r\n",
            "            <td style = \"text-align: center\"><a href=\"diarias_csv.php?ano=2021\" class=\"btn btn-download\">Download</a></td>\r\n",
            "        </tr>\r\n",
            "            <tr>\r\n",
            "            <td class=\"a-center\">2020</td>\r\n",
            "            <td style = \"text-align: center\"><a href=\"diarias_csv.php?ano=2020\" class=\"btn btn-download\">Download</a></td>\r\n",
            "        </tr>\r\n",
            "            <tr>\r\n",
            "            <td class=\"a-center\">2019</td>\r\n",
            "            <td style = \"text-align: center\"><a href=\"diarias_csv.php?ano=2019\" class=\"btn btn-download\">Download</a></td>\r\n",
            "        </tr>\r\n",
            "            <tr>\r\n",
            "            <td class=\"a-center\">2018</td>\r\n",
            "            <td style = \"text-align: center\"><a href=\"diarias_csv.php?ano=2018\" class=\"btn btn-download\">Download</a></td>\r\n",
            "        </tr>\r\n",
            "            <tr>\r\n",
            "            <td class=\"a-center\">2017</td>\r\n",
            "            <td style = \"text-align: center\"><a href=\"diarias_csv.php?ano=2017\" class=\"btn btn-download\">Download</a></td>\r\n",
            "        </tr>\r\n",
            "            <tr>\r\n",
            "            <td class=\"a-center\">2016</td>\r\n",
            "            <td style = \"text-align: center\"><a href=\"diarias_csv.php?ano=2016\" class=\"btn btn-download\">Download</a></td>\r\n",
            "        </tr>\r\n",
            "            <tr>\r\n",
            "            <td class=\"a-center\">2015</td>\r\n",
            "            <td style = \"text-align: center\"><a href=\"diarias_csv.php?ano=2015\" class=\"btn btn-download\">Download</a></td>\r\n",
            "        </tr>\r\n",
            "            <tr>\r\n",
            "            <td class=\"a-center\">2014</td>\r\n",
            "            <td style = \"text-align: center\"><a href=\"diarias_csv.php?ano=2014\" class=\"btn btn-download\">Download</a></td>\r\n",
            "        </tr>\r\n",
            "            <tr>\r\n",
            "            <td class=\"a-center\">2013</td>\r\n",
            "            <td style = \"text-align: center\"><a href=\"diarias_csv.php?ano=2013\" class=\"btn btn-download\">Download</a></td>\r\n",
            "        </tr>\r\n",
            "            <tr>\r\n",
            "            <td class=\"a-center\">2012</td>\r\n",
            "            <td style = \"text-align: center\"><a href=\"diarias_csv.php?ano=2012\" class=\"btn btn-download\">Download</a></td>\r\n",
            "        </tr>\r\n",
            "            <tr>\r\n",
            "            <td class=\"a-center\">2011</td>\r\n",
            "            <td style = \"text-align: center\"><a href=\"diarias_csv.php?ano=2011\" class=\"btn btn-download\">Download</a></td>\r\n",
            "        </tr>\r\n",
            "    </table>\r\n",
            "<div class=\"min-height\"></div>\r\n",
            "                        <div class=\"min-height\"></div>\r\n",
            "                    </div>\r\n",
            "                </div>\r\n",
            "                <br clear=\"all\" />\r\n",
            "            </div>\r\n",
            "            <div id=\"rodape\">\r\n",
            "                <!-- <a title=\"\" href=\"http://www.acessobrasil.org.br\" target=\"_blank\" class=\"img_acessibilidade\">\r\n",
            "                    <img src=\"imagem/selo_acessobr92x47.gif\" alt=\"Acessibilidade Brasil - Site APROVADO\" />\r\n",
            "                </a> -->\r\n",
            "                <span class=\"endereco\">\r\n",
            "                    Assembleia Legislativa do Estado de Santa Catarina - Pal&aacute;cio Barriga Verde - Rua Doutor Jorge Luz Fontes, 310\r\n",
            "                    <br />\r\n",
            "                    CEP: 88020-900 - Florian&oacute;polis - Santa Catarina - Fone: (48) 3221.2500\r\n",
            "                    <br/>\r\n",
            "                    2021 - Todos os direitos reservados - Versão \r\n",
            "1.4.23 de 06/10/2021.\r\n",
            "                </span>\r\n",
            "            </div>\r\n",
            "        </div>\r\n",
            "    </body>\r\n",
            "</html>\n"
          ]
        }
      ]
    },
    {
      "cell_type": "markdown",
      "metadata": {
        "id": "2j-z3l5CLOr6"
      },
      "source": [
        "Manipulação de strings usando *split*"
      ]
    },
    {
      "cell_type": "code",
      "metadata": {
        "id": "9PnkH0l_PkeL"
      },
      "source": [
        "partes = html.split('<td style = \"text-align: center\"><a href=\"')  ### faz uma quebra de linha em partes que são identificadas pelo parâmetro na função. "
      ],
      "execution_count": 4,
      "outputs": []
    },
    {
      "cell_type": "code",
      "metadata": {
        "colab": {
          "base_uri": "https://localhost:8080/",
          "height": 137
        },
        "id": "ew0hixRFsCqG",
        "outputId": "311396e1-382e-4015-d899-a169924c3302"
      },
      "source": [
        "partes[-1] ### parte final da quebra"
      ],
      "execution_count": 5,
      "outputs": [
        {
          "output_type": "execute_result",
          "data": {
            "application/vnd.google.colaboratory.intrinsic+json": {
              "type": "string"
            },
            "text/plain": [
              "'diarias_csv.php?ano=2011\" class=\"btn btn-download\">Download</a></td>\\r\\n        </tr>\\r\\n    </table>\\r\\n<div class=\"min-height\"></div>\\r\\n                        <div class=\"min-height\"></div>\\r\\n                    </div>\\r\\n                </div>\\r\\n                <br clear=\"all\" />\\r\\n            </div>\\r\\n            <div id=\"rodape\">\\r\\n                <!-- <a title=\"\" href=\"http://www.acessobrasil.org.br\" target=\"_blank\" class=\"img_acessibilidade\">\\r\\n                    <img src=\"imagem/selo_acessobr92x47.gif\" alt=\"Acessibilidade Brasil - Site APROVADO\" />\\r\\n                </a> -->\\r\\n                <span class=\"endereco\">\\r\\n                    Assembleia Legislativa do Estado de Santa Catarina - Pal&aacute;cio Barriga Verde - Rua Doutor Jorge Luz Fontes, 310\\r\\n                    <br />\\r\\n                    CEP: 88020-900 - Florian&oacute;polis - Santa Catarina - Fone: (48) 3221.2500\\r\\n                    <br/>\\r\\n                    2021 - Todos os direitos reservados - Versão \\r\\n1.4.23 de 06/10/2021.\\r\\n                </span>\\r\\n            </div>\\r\\n        </div>\\r\\n    </body>\\r\\n</html>'"
            ]
          },
          "metadata": {},
          "execution_count": 5
        }
      ]
    },
    {
      "cell_type": "code",
      "metadata": {
        "colab": {
          "base_uri": "https://localhost:8080/"
        },
        "id": "Ff326IcXZt9T",
        "outputId": "613e5e7b-fabf-423c-e2a3-5e3977aeddc2"
      },
      "source": [
        "for parte in partes:     ### itera em cima da lista de trechos de código\n",
        "  subpartes = parte.split('</a></td>')   #padrão usado para quebrar em subpartes\n",
        "  conteudo = subpartes[0]  ### seleciona a primeira parte antes do padrão utilizado anteriormente\n",
        "  if '\" class=\"btn btn-download\">Download' not in conteudo:  ### filtra apenas as linhas que possuem esse trecho de código contido na linha\n",
        "    continue      \n",
        "  print(conteudo)"
      ],
      "execution_count": 6,
      "outputs": [
        {
          "output_type": "stream",
          "name": "stdout",
          "text": [
            "diarias_csv.php?ano=2021\" class=\"btn btn-download\">Download\n",
            "diarias_csv.php?ano=2020\" class=\"btn btn-download\">Download\n",
            "diarias_csv.php?ano=2019\" class=\"btn btn-download\">Download\n",
            "diarias_csv.php?ano=2018\" class=\"btn btn-download\">Download\n",
            "diarias_csv.php?ano=2017\" class=\"btn btn-download\">Download\n",
            "diarias_csv.php?ano=2016\" class=\"btn btn-download\">Download\n",
            "diarias_csv.php?ano=2015\" class=\"btn btn-download\">Download\n",
            "diarias_csv.php?ano=2014\" class=\"btn btn-download\">Download\n",
            "diarias_csv.php?ano=2013\" class=\"btn btn-download\">Download\n",
            "diarias_csv.php?ano=2012\" class=\"btn btn-download\">Download\n",
            "diarias_csv.php?ano=2011\" class=\"btn btn-download\">Download\n"
          ]
        }
      ]
    },
    {
      "cell_type": "code",
      "metadata": {
        "colab": {
          "base_uri": "https://localhost:8080/"
        },
        "id": "RPLJmgJHZZ2N",
        "outputId": "78056913-377c-46ee-c5ca-59d2d6772fca"
      },
      "source": [
        "for parte in partes:\n",
        "  conteudo = subpartes[0]\n",
        "  subpartes = parte.split('\" class=\"btn btn-download\">Download')\n",
        "  if 'diarias_csv.php' not in conteudo:\n",
        "    continue\n",
        "  print(conteudo)"
      ],
      "execution_count": 7,
      "outputs": [
        {
          "output_type": "stream",
          "name": "stdout",
          "text": [
            "diarias_csv.php?ano=2011\" class=\"btn btn-download\">Download\n",
            "diarias_csv.php?ano=2021\n",
            "diarias_csv.php?ano=2020\n",
            "diarias_csv.php?ano=2019\n",
            "diarias_csv.php?ano=2018\n",
            "diarias_csv.php?ano=2017\n",
            "diarias_csv.php?ano=2016\n",
            "diarias_csv.php?ano=2015\n",
            "diarias_csv.php?ano=2014\n",
            "diarias_csv.php?ano=2013\n",
            "diarias_csv.php?ano=2012\n"
          ]
        }
      ]
    },
    {
      "cell_type": "code",
      "metadata": {
        "id": "-16KUeDj80sn"
      },
      "source": [
        "import csv\n",
        "\n",
        "arquivo = open(\"links-diarias.csv\", mode=\"w\") ## cria arquivo csv e a permissão de escrita dentro do parâmetro  \n",
        "escritor = csv.DictWriter(arquivo, fieldnames=[\"ano\", \"link\"]) ## define os nomes das colunas dentro do arquivo csv \n",
        "escritor.writeheader() ## define os nomes das colunas como cabeçalho\n",
        "for parte in partes:   ### executa o código repetidas vezes até chegar ao fim da lista.\n",
        "  subpartes = parte.split('\" class=\"btn btn-download\">Download')  ### quebra a string de acordo com a palavra-chave incluída no parâmetro.\n",
        "  conteudo = subpartes[0] ### seleciona a primeira parte da quebra feita pela split e armazena na variável conteúdo. \n",
        "  if 'diarias_csv.php' not in conteudo:  ### se 'diarias_csv.php' não estiver contida dentro da linha ele continua\n",
        "    continue  ### pula para a próxima iteração do 'for'\n",
        "  lista = conteudo.split('diarias_csv.php?ano=')   \n",
        "  ano = lista[1]\n",
        "  link = f'https://transparencia.alesc.sc.gov.br/{conteudo}'\n",
        "  escritor.writerow({\"ano\": ano, \"link\": link})  ## para cada iteração vai preencher as linhas de cada coluna com as informações correspondentes \n",
        "arquivo.close()\n",
        "  ##print(f'{ano}: {link}')"
      ],
      "execution_count": 8,
      "outputs": []
    },
    {
      "cell_type": "markdown",
      "metadata": {
        "id": "6cKTO9U_bcUI"
      },
      "source": [
        "Função\n"
      ]
    },
    {
      "cell_type": "code",
      "metadata": {
        "id": "y3ddXgFpSvvh"
      },
      "source": [
        "def extrai_links(html):   \n",
        "  links = []\n",
        "  partes = html.split('<td style = \"text-align: center\"><a href=\"')\n",
        "  for parte in partes:   \n",
        "    subpartes = parte.split('\" class=\"btn btn-download\">Download')  \n",
        "    conteudo = subpartes[0]\n",
        "    if 'diarias_csv.php' not in conteudo: \n",
        "      continue  \n",
        "    lista = conteudo.split('diarias_csv.php?ano=')  \n",
        "    ano = lista[1]\n",
        "    link = f'https://transparencia.alesc.sc.gov.br/{conteudo}'\n",
        "    links.append({\"ano\": ano, \"link\": link})    ## retorna uma lista\n",
        "  return links \n",
        "\n"
      ],
      "execution_count": 9,
      "outputs": []
    },
    {
      "cell_type": "markdown",
      "metadata": {
        "id": "LVD_o_3fbX0-"
      },
      "source": [
        "Programa final"
      ]
    },
    {
      "cell_type": "code",
      "metadata": {
        "id": "spEkmVOobIr7"
      },
      "source": [
        "import requests\n",
        "import csv\n",
        "\n",
        "url = \"https://transparencia.alesc.sc.gov.br/diarias_dados_abertos.php\"\n",
        "resposta = requests.get(url)\n",
        "html = resposta.text\n",
        "arquivo = open(\"links-diarias-2.csv\", mode=\"w\")  \n",
        "escritor = csv.DictWriter(arquivo, fieldnames=[\"ano\", \"link\"]) \n",
        "escritor.writeheader()\n",
        "for link_diaria in extrai_links(html):\n",
        "  escritor.writerow(link_diaria)\n",
        "arquivo.close()"
      ],
      "execution_count": 10,
      "outputs": []
    },
    {
      "cell_type": "markdown",
      "metadata": {
        "id": "eJK9M3txLr8i"
      },
      "source": [
        "# Transformação dos dados\n",
        "\n",
        "* Baixar os arquivos CSVs que estão em cada uns dis links e armezaner os dados em um repositório.\n",
        "* Puxar as informações de cada uma das tabelas e unir em uma única tabela. \n",
        "* Criar uma nova coluna 'ano' dentro da nova tabela para relacionar os dados ao ano que eles correspondem. \n",
        "\n"
      ]
    },
    {
      "cell_type": "code",
      "metadata": {
        "id": "KGI-vv4crvys"
      },
      "source": [
        "import pandas as pd\n"
      ],
      "execution_count": 11,
      "outputs": []
    },
    {
      "cell_type": "code",
      "metadata": {
        "id": "-Z1cyvJS133A",
        "colab": {
          "base_uri": "https://localhost:8080/"
        },
        "outputId": "606221d1-213e-4068-9437-5c785705c4f9"
      },
      "source": [
        "df = pd.read_csv('links-diarias.csv')  ### carrega o csv com os links em um dataframe\n",
        "links = list(df['link'])    ### gera uma lista de links\n",
        "links"
      ],
      "execution_count": 12,
      "outputs": [
        {
          "output_type": "execute_result",
          "data": {
            "text/plain": [
              "['https://transparencia.alesc.sc.gov.br/diarias_csv.php?ano=2021',\n",
              " 'https://transparencia.alesc.sc.gov.br/diarias_csv.php?ano=2020',\n",
              " 'https://transparencia.alesc.sc.gov.br/diarias_csv.php?ano=2019',\n",
              " 'https://transparencia.alesc.sc.gov.br/diarias_csv.php?ano=2018',\n",
              " 'https://transparencia.alesc.sc.gov.br/diarias_csv.php?ano=2017',\n",
              " 'https://transparencia.alesc.sc.gov.br/diarias_csv.php?ano=2016',\n",
              " 'https://transparencia.alesc.sc.gov.br/diarias_csv.php?ano=2015',\n",
              " 'https://transparencia.alesc.sc.gov.br/diarias_csv.php?ano=2014',\n",
              " 'https://transparencia.alesc.sc.gov.br/diarias_csv.php?ano=2013',\n",
              " 'https://transparencia.alesc.sc.gov.br/diarias_csv.php?ano=2012',\n",
              " 'https://transparencia.alesc.sc.gov.br/diarias_csv.php?ano=2011']"
            ]
          },
          "metadata": {},
          "execution_count": 12
        }
      ]
    },
    {
      "cell_type": "code",
      "metadata": {
        "colab": {
          "base_uri": "https://localhost:8080/"
        },
        "id": "5jBo-oYOERTU",
        "outputId": "fcfb2718-2b13-436d-b607-8592691fa92f"
      },
      "source": [
        "print('Iniciando o dataframe com ', links[0]) ### dataframe com o primeiro link cujo cabeçalho será mantido\n",
        "    \n",
        "df = pd.read_csv(links[0], encoding='iso8859-1', sep=';')   \n",
        "\n",
        "for url in links[1:]:   ### Aqui o 'for' abre os outros links num loop \n",
        "  print('Acrescentando ', url)\n",
        "  df2 = pd.read_csv(url, encoding='iso8859-1', sep=';') \n",
        "  df = pd.concat([df, df2]) "
      ],
      "execution_count": 13,
      "outputs": [
        {
          "output_type": "stream",
          "name": "stdout",
          "text": [
            "Iniciando o dataframe com  https://transparencia.alesc.sc.gov.br/diarias_csv.php?ano=2021\n",
            "Acrescentando  https://transparencia.alesc.sc.gov.br/diarias_csv.php?ano=2020\n",
            "Acrescentando  https://transparencia.alesc.sc.gov.br/diarias_csv.php?ano=2019\n",
            "Acrescentando  https://transparencia.alesc.sc.gov.br/diarias_csv.php?ano=2018\n",
            "Acrescentando  https://transparencia.alesc.sc.gov.br/diarias_csv.php?ano=2017\n",
            "Acrescentando  https://transparencia.alesc.sc.gov.br/diarias_csv.php?ano=2016\n",
            "Acrescentando  https://transparencia.alesc.sc.gov.br/diarias_csv.php?ano=2015\n",
            "Acrescentando  https://transparencia.alesc.sc.gov.br/diarias_csv.php?ano=2014\n",
            "Acrescentando  https://transparencia.alesc.sc.gov.br/diarias_csv.php?ano=2013\n",
            "Acrescentando  https://transparencia.alesc.sc.gov.br/diarias_csv.php?ano=2012\n",
            "Acrescentando  https://transparencia.alesc.sc.gov.br/diarias_csv.php?ano=2011\n"
          ]
        }
      ]
    },
    {
      "cell_type": "code",
      "metadata": {
        "id": "WA98fZNuHchp"
      },
      "source": [
        "df['Ano'] = df['Data'].str.split('/').str[-1]  ## para acrescentar a coluna ano, foi usado mais um split na coluna data"
      ],
      "execution_count": 14,
      "outputs": []
    },
    {
      "cell_type": "code",
      "metadata": {
        "colab": {
          "base_uri": "https://localhost:8080/",
          "height": 589
        },
        "id": "yCwRfh5-H_0_",
        "outputId": "e2985249-d7d2-42ce-cc7f-6f0d0e6bf92a"
      },
      "source": [
        "df"
      ],
      "execution_count": 15,
      "outputs": [
        {
          "output_type": "execute_result",
          "data": {
            "text/html": [
              "<div>\n",
              "<style scoped>\n",
              "    .dataframe tbody tr th:only-of-type {\n",
              "        vertical-align: middle;\n",
              "    }\n",
              "\n",
              "    .dataframe tbody tr th {\n",
              "        vertical-align: top;\n",
              "    }\n",
              "\n",
              "    .dataframe thead th {\n",
              "        text-align: right;\n",
              "    }\n",
              "</style>\n",
              "<table border=\"1\" class=\"dataframe\">\n",
              "  <thead>\n",
              "    <tr style=\"text-align: right;\">\n",
              "      <th></th>\n",
              "      <th>Nome</th>\n",
              "      <th>Conta</th>\n",
              "      <th>Vínculo</th>\n",
              "      <th>Data</th>\n",
              "      <th>Quantidade</th>\n",
              "      <th>Valor</th>\n",
              "      <th>Relatório</th>\n",
              "      <th>Ano</th>\n",
              "    </tr>\n",
              "  </thead>\n",
              "  <tbody>\n",
              "    <tr>\n",
              "      <th>0</th>\n",
              "      <td>SERGIO MOTTA RIBEIRO</td>\n",
              "      <td>SERGIO MOTTA RIBEIRO</td>\n",
              "      <td>Deputado</td>\n",
              "      <td>07/10/2021</td>\n",
              "      <td>1,0</td>\n",
              "      <td>670,00</td>\n",
              "      <td>http://diarias.alesc.sc.gov.br/prestacao-conta...</td>\n",
              "      <td>2021</td>\n",
              "    </tr>\n",
              "    <tr>\n",
              "      <th>1</th>\n",
              "      <td>MAURICIO DA SILVA FREITAS</td>\n",
              "      <td>IVAN NAATZ</td>\n",
              "      <td>Servidor</td>\n",
              "      <td>06/10/2021</td>\n",
              "      <td>1,0</td>\n",
              "      <td>420,00</td>\n",
              "      <td>http://diarias.alesc.sc.gov.br/prestacao-conta...</td>\n",
              "      <td>2021</td>\n",
              "    </tr>\n",
              "    <tr>\n",
              "      <th>2</th>\n",
              "      <td>CARLOS CESAR DOS SANTOS GONCALVES</td>\n",
              "      <td>IVAN NAATZ</td>\n",
              "      <td>Servidor</td>\n",
              "      <td>06/10/2021</td>\n",
              "      <td>1,0</td>\n",
              "      <td>420,00</td>\n",
              "      <td>http://diarias.alesc.sc.gov.br/prestacao-conta...</td>\n",
              "      <td>2021</td>\n",
              "    </tr>\n",
              "    <tr>\n",
              "      <th>3</th>\n",
              "      <td>ISAAC NEDEFF FILHO</td>\n",
              "      <td>JOÃO AMIN</td>\n",
              "      <td>Servidor</td>\n",
              "      <td>06/10/2021</td>\n",
              "      <td>1,0</td>\n",
              "      <td>420,00</td>\n",
              "      <td>http://diarias.alesc.sc.gov.br/prestacao-conta...</td>\n",
              "      <td>2021</td>\n",
              "    </tr>\n",
              "    <tr>\n",
              "      <th>4</th>\n",
              "      <td>VALDECIR DOMINGUES DE MATOS</td>\n",
              "      <td>IVAN NAATZ</td>\n",
              "      <td>Servidor</td>\n",
              "      <td>06/10/2021</td>\n",
              "      <td>0,5</td>\n",
              "      <td>210,00</td>\n",
              "      <td>http://diarias.alesc.sc.gov.br/prestacao-conta...</td>\n",
              "      <td>2021</td>\n",
              "    </tr>\n",
              "    <tr>\n",
              "      <th>...</th>\n",
              "      <td>...</td>\n",
              "      <td>...</td>\n",
              "      <td>...</td>\n",
              "      <td>...</td>\n",
              "      <td>...</td>\n",
              "      <td>...</td>\n",
              "      <td>...</td>\n",
              "      <td>...</td>\n",
              "    </tr>\n",
              "    <tr>\n",
              "      <th>3787</th>\n",
              "      <td>VALDEMAR MACHADO NETO</td>\n",
              "      <td>JORGE TEIXEIRA</td>\n",
              "      <td>Servidor</td>\n",
              "      <td>01/09/2011</td>\n",
              "      <td>6,0</td>\n",
              "      <td>2520,00</td>\n",
              "      <td>http://diarias.alesc.sc.gov.br/prestacao-conta...</td>\n",
              "      <td>2011</td>\n",
              "    </tr>\n",
              "    <tr>\n",
              "      <th>3788</th>\n",
              "      <td>MARIA DE FATIMA SCHAUFFERT RAMOS DA SILVA</td>\n",
              "      <td>JORGE TEIXEIRA</td>\n",
              "      <td>Servidor</td>\n",
              "      <td>01/09/2011</td>\n",
              "      <td>5,5</td>\n",
              "      <td>2310,00</td>\n",
              "      <td>http://diarias.alesc.sc.gov.br/prestacao-conta...</td>\n",
              "      <td>2011</td>\n",
              "    </tr>\n",
              "    <tr>\n",
              "      <th>3789</th>\n",
              "      <td>VALTER DOS SANTOS</td>\n",
              "      <td>JEAN JACKSON KUHLMANN</td>\n",
              "      <td>Servidor</td>\n",
              "      <td>01/09/2011</td>\n",
              "      <td>2,0</td>\n",
              "      <td>840,00</td>\n",
              "      <td>http://diarias.alesc.sc.gov.br/prestacao-conta...</td>\n",
              "      <td>2011</td>\n",
              "    </tr>\n",
              "    <tr>\n",
              "      <th>3790</th>\n",
              "      <td>WALTER MANOEL DA SILVEIRA</td>\n",
              "      <td>DIRETORIA ADMINISTRATIVA</td>\n",
              "      <td>Servidor</td>\n",
              "      <td>01/09/2011</td>\n",
              "      <td>1,5</td>\n",
              "      <td>630,00</td>\n",
              "      <td>http://diarias.alesc.sc.gov.br/prestacao-conta...</td>\n",
              "      <td>2011</td>\n",
              "    </tr>\n",
              "    <tr>\n",
              "      <th>3791</th>\n",
              "      <td>MARCELO HENRIQUE BELLO</td>\n",
              "      <td>NILSON GONÇALVES DE SOUZA</td>\n",
              "      <td>Servidor</td>\n",
              "      <td>01/09/2011</td>\n",
              "      <td>5,0</td>\n",
              "      <td>2100,00</td>\n",
              "      <td>http://diarias.alesc.sc.gov.br/prestacao-conta...</td>\n",
              "      <td>2011</td>\n",
              "    </tr>\n",
              "  </tbody>\n",
              "</table>\n",
              "<p>95049 rows × 8 columns</p>\n",
              "</div>"
            ],
            "text/plain": [
              "                                           Nome  ...   Ano\n",
              "0                          SERGIO MOTTA RIBEIRO  ...  2021\n",
              "1                     MAURICIO DA SILVA FREITAS  ...  2021\n",
              "2             CARLOS CESAR DOS SANTOS GONCALVES  ...  2021\n",
              "3                            ISAAC NEDEFF FILHO  ...  2021\n",
              "4                   VALDECIR DOMINGUES DE MATOS  ...  2021\n",
              "...                                         ...  ...   ...\n",
              "3787                      VALDEMAR MACHADO NETO  ...  2011\n",
              "3788  MARIA DE FATIMA SCHAUFFERT RAMOS DA SILVA  ...  2011\n",
              "3789                          VALTER DOS SANTOS  ...  2011\n",
              "3790                  WALTER MANOEL DA SILVEIRA  ...  2011\n",
              "3791                     MARCELO HENRIQUE BELLO  ...  2011\n",
              "\n",
              "[95049 rows x 8 columns]"
            ]
          },
          "metadata": {},
          "execution_count": 15
        }
      ]
    },
    {
      "cell_type": "code",
      "metadata": {
        "id": "ZNk5NBUSIhu0"
      },
      "source": [
        "df.to_csv('diarias_final.csv')"
      ],
      "execution_count": 16,
      "outputs": []
    },
    {
      "cell_type": "code",
      "metadata": {
        "id": "-QyRZGXfPvDB"
      },
      "source": [
        ""
      ],
      "execution_count": 16,
      "outputs": []
    }
  ]
}